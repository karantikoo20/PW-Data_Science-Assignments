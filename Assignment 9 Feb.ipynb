{
 "cells": [
  {
   "cell_type": "code",
   "execution_count": 1,
   "id": "0c790c50-5190-4891-a425-7b5089668cce",
   "metadata": {},
   "outputs": [],
   "source": [
    "#  1)\n",
    "\n",
    "class vehicle:\n",
    "    \n",
    "    def __init__(self, name_of_vehicle, max_speed, average_of_vehicle):\n",
    "        self.name_of_vehicle = name_of_vehicle\n",
    "        self.max_speed = max_speed\n",
    "        self.average_of_vehicle = average_of_vehicle\n",
    "                "
   ]
  },
  {
   "cell_type": "code",
   "execution_count": 2,
   "id": "6ee9b105-3796-4007-853d-b2e29ece8a26",
   "metadata": {},
   "outputs": [],
   "source": [
    "# 2)\n",
    "\n",
    "class car(vehicle):\n",
    "    \n",
    "    def seating_capacity(self, capacity):\n",
    "        return self.name_of_vehicle, capacity\n",
    "        "
   ]
  },
  {
   "cell_type": "code",
   "execution_count": 3,
   "id": "dfac77d4-9174-4590-86a9-0f5eae77abfd",
   "metadata": {},
   "outputs": [
    {
     "data": {
      "text/plain": [
       "('Baleno', 5)"
      ]
     },
     "execution_count": 3,
     "metadata": {},
     "output_type": "execute_result"
    }
   ],
   "source": [
    "#execution of problem 2\n",
    "mycar = car('Baleno',100,25)\n",
    "mycar.seating_capacity(5)"
   ]
  },
  {
   "cell_type": "code",
   "execution_count": 7,
   "id": "8373daff-0f50-4bee-a3dd-604c495945a5",
   "metadata": {},
   "outputs": [
    {
     "name": "stdout",
     "output_type": "stream",
     "text": [
      "Father genes\n",
      "Mother genes\n"
     ]
    }
   ],
   "source": [
    "# 3)\n",
    "\n",
    "\"\"\" Multiple Inheritence :- inheriting from multiple classes to one. \"\"\"\n",
    "\n",
    "class p1:\n",
    "    def f1(self):\n",
    "        return'Father genes'\n",
    "    \n",
    "class p2:\n",
    "    def f2(self):\n",
    "        return'Mother genes'\n",
    "    \n",
    "class child(p1,p2):\n",
    "    pass\n",
    "\n",
    "obj1 = child()\n",
    "print(obj1.f1())\n",
    "print(obj1.f2())  ### here class chuild can inherit properties of both classes p1 and p2"
   ]
  },
  {
   "cell_type": "code",
   "execution_count": 8,
   "id": "2cce9154-a445-458a-b406-7c7d67b2e3c5",
   "metadata": {},
   "outputs": [],
   "source": [
    "# 4)\n",
    "\n",
    "\"\"\"\n",
    "A getter - to access the value of the attribute.\n",
    "A setter - to set the value of the attribute.\n",
    "# They are mostly used in the cases when the attribute is set private and when we dont't want the user to make unnecessary \n",
    "- getter is used accces the value of that private atribute. If we see , we can also do that without getter method but then we have to call the function() to access it \n",
    "but with getter we can use the name of the function as a variable \n",
    "- setter is used change the value of that private atribute. here we can apply the conditions so that the user is not able to give any inappropriate value to the attribute.\n",
    "  If we see , we can also do that without setter method but then we have to call the function() to access it \n",
    "  but with getter we can use the name of the function as a variable.\n",
    "\"\"\"\n",
    "\n",
    "## Example of a Banking Software \n",
    "class open_bank_account:\n",
    "    def __init__(self,name):\n",
    "        self.__balance = 0 ## A private variable of\n",
    "        self.name = name\n",
    "        print('account apened successfuly, Current Balce = Rs 0')\n",
    "        \n",
    "    @property   ### Getter Method\n",
    "    def balance(self):\n",
    "        print( 'Rs', self.__balance)\n",
    "        \n",
    "    @balance.setter   ### Setter method  \n",
    "    def deposit(self,amount):\n",
    "        if amount <= 100:\n",
    "            print('Error - Min. value for deposit should be Rs 100')\n",
    "        else:\n",
    "            self.__balance += amount\n",
    "            print(f'Rs {amount} deposited successfully in your bank account ')\n",
    "            \n",
    "    @balance.setter\n",
    "    def withdraw(self,amount):\n",
    "        if amount > self.__balance:\n",
    "            print('Error - Not enough Balance in your account')\n",
    "        else:\n",
    "            self.__balance -= amount\n",
    "            print(f'Rs {amount} withdrawn succesfully')"
   ]
  },
  {
   "cell_type": "code",
   "execution_count": 10,
   "id": "fd410f9a-8cad-495b-ba8a-f53fa2ac2132",
   "metadata": {},
   "outputs": [
    {
     "name": "stdout",
     "output_type": "stream",
     "text": [
      "account apened successfuly, Current Balce = Rs 0\n",
      "Rs 10000 deposited successfully in your bank account \n",
      "Rs 10000\n",
      "Rs 5000 withdrawn succesfully\n",
      "Rs 5000\n"
     ]
    }
   ],
   "source": [
    "# Execution\n",
    "myacc = open_bank_account('Karan Tikoo')\n",
    "myacc.deposit = 10000\n",
    "myacc.balance\n",
    "myacc.withdraw = 5000\n",
    "myacc.balance"
   ]
  },
  {
   "cell_type": "code",
   "execution_count": 11,
   "id": "4be9085c-3504-4aa8-bd8e-b0f511f00c21",
   "metadata": {},
   "outputs": [
    {
     "name": "stdout",
     "output_type": "stream",
     "text": [
      "Inside Parent\n",
      "Inside Child\n"
     ]
    }
   ],
   "source": [
    "# 5)\n",
    "\n",
    "\"\"\"\n",
    "- Method overriding is an ability of any object-oriented programming language that allows a subclass or child class to provide a specific implementation of a \n",
    "  method that is already provided by one of its super-classes or parent classes. When a method in a subclass has the same name, same parameters or signature and \n",
    "  same return type(or sub-type) as a method in its super-class, then the method in the subclass is said to override the method in the super-class.\n",
    "\"\"\"\n",
    "## example \n",
    "\n",
    "# Defining parent class\n",
    "class Parent():\n",
    "      \n",
    "    # Constructor\n",
    "    def __init__(self):\n",
    "        self.value = \"Inside Parent\"\n",
    "          \n",
    "    # Parent's show method\n",
    "    def show(self):\n",
    "        print(self.value)\n",
    "          \n",
    "# Defining child class\n",
    "class Child(Parent):\n",
    "      \n",
    "    # Constructor\n",
    "    def __init__(self):\n",
    "        self.value = \"Inside Child\"\n",
    "          \n",
    "    # Child's show method\n",
    "    def show(self):\n",
    "        print(self.value)\n",
    "          \n",
    "          \n",
    "# Driver's code\n",
    "obj1 = Parent()\n",
    "obj2 = Child()\n",
    "  \n",
    "obj1.show()\n",
    "obj2.show()"
   ]
  }
 ],
 "metadata": {
  "kernelspec": {
   "display_name": "Python 3 (ipykernel)",
   "language": "python",
   "name": "python3"
  },
  "language_info": {
   "codemirror_mode": {
    "name": "ipython",
    "version": 3
   },
   "file_extension": ".py",
   "mimetype": "text/x-python",
   "name": "python",
   "nbconvert_exporter": "python",
   "pygments_lexer": "ipython3",
   "version": "3.10.8"
  }
 },
 "nbformat": 4,
 "nbformat_minor": 5
}
