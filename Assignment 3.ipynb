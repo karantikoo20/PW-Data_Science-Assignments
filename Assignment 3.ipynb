{
 "cells": [
  {
   "cell_type": "code",
   "execution_count": 5,
   "id": "a124b55c-02b4-48de-b633-6c38d25cf574",
   "metadata": {},
   "outputs": [
    {
     "name": "stdout",
     "output_type": "stream",
     "text": [
      "Input list elements:\n",
      "10\n",
      "20\n",
      "30\n",
      "40\n",
      "50\n"
     ]
    }
   ],
   "source": [
    "# 1)\n",
    "\n",
    "# A for loop is a control flow statement that executes code for a predefined number of iterations. The keyword used in this control flow statement is for. When the number of iterations is already known, the for loop is used.\n",
    "\n",
    "# example \n",
    "\n",
    "\n",
    "inputList = [10, 20, 30, 40, 50]\n",
    "print(\"Input list elements:\")\n",
    "for element in inputList:\n",
    "   \n",
    "   print(element)"
   ]
  },
  {
   "cell_type": "code",
   "execution_count": 6,
   "id": "d4090065-7bc8-4db7-afc8-e4467d9cf82b",
   "metadata": {},
   "outputs": [
    {
     "name": "stdout",
     "output_type": "stream",
     "text": [
      "1\n",
      "2\n",
      "3\n",
      "4\n",
      "5\n",
      "6\n",
      "7\n",
      "8\n",
      "9\n"
     ]
    }
   ],
   "source": [
    "# A loop that runs a single statement or a set of statements for a given true condition. This loop is represented by the keyword \"while.\" When the number of iterations is unknown, a \"while\" loop is used. \n",
    "\n",
    "# example\n",
    "\n",
    "i = 1\n",
    "# Iterate until the given condition is true\n",
    "while i < 10:\n",
    "  \n",
    "   print(i)\n",
    "   i += 1 "
   ]
  },
  {
   "cell_type": "code",
   "execution_count": 1,
   "id": "8aee39f0-0f48-4a84-9b3d-228e3715699a",
   "metadata": {},
   "outputs": [
    {
     "name": "stdout",
     "output_type": "stream",
     "text": [
      "Sum of first 10 natural numbers : 55\n",
      "Product of first 10 natural numbers : 3628800\n"
     ]
    }
   ],
   "source": [
    "# 2)\n",
    "\n",
    "# Using while loop \n",
    "\n",
    "sum = 0\n",
    "product = 1\n",
    "i = 1\n",
    "\n",
    "while i<=10:\n",
    "    sum = sum+i\n",
    "    product = product*i\n",
    "    i = i+1\n",
    "    \n",
    "print(\"Sum of first 10 natural numbers :\",sum)\n",
    "print(\"Product of first 10 natural numbers :\",product)"
   ]
  },
  {
   "cell_type": "code",
   "execution_count": 3,
   "id": "1e33fc54-95d3-41da-b4b6-a6b369ff6614",
   "metadata": {},
   "outputs": [
    {
     "name": "stdout",
     "output_type": "stream",
     "text": [
      "Sum of first 10 natural numbers : 55\n",
      "Product of first 10 natural numbers : 3628800\n"
     ]
    }
   ],
   "source": [
    "# 2)\n",
    "\n",
    "# Using For loop \n",
    "\n",
    "sum = 0\n",
    "product = 1\n",
    "i = 1\n",
    "\n",
    "for i in range(1,11):\n",
    "    sum = sum+i\n",
    "    product = product*i\n",
    "    i = i+1\n",
    "    \n",
    "print(\"Sum of first 10 natural numbers :\",sum)\n",
    "print(\"Product of first 10 natural numbers :\",product)"
   ]
  },
  {
   "cell_type": "code",
   "execution_count": 1,
   "id": "e850b6d7-f820-4fa9-af78-38c32b8a2f8e",
   "metadata": {},
   "outputs": [
    {
     "name": "stdin",
     "output_type": "stream",
     "text": [
      "Please enter electricity consumed by user in a month : 999\n"
     ]
    },
    {
     "name": "stdout",
     "output_type": "stream",
     "text": [
      "Your total electricity bill is: Rs. 16030.0\n"
     ]
    }
   ],
   "source": [
    "# 3)\n",
    "\n",
    "unit_consume = int(input(\"Please enter electricity consumed by user in a month :\"))\n",
    "\n",
    "if unit_consume <= 100:\n",
    "    bill = unit_consume * 4.5\n",
    "elif unit_consume <= 200:\n",
    "    bill = (100*4.5)+((unit_consume-100)*6)    \n",
    "elif unit_consume <= 300:\n",
    "    bill = (100 * 4.5) + (100 * 6) + ((unit_consume - 200) * 10)\n",
    "else:\n",
    "    bill = (100 * 4.5) + (100 * 6) + (100 * 10) + ((unit_consume - 300) * 20)\n",
    "\n",
    "print(\"Your total electricity bill is: Rs.\", bill)\n",
    "\n"
   ]
  },
  {
   "cell_type": "code",
   "execution_count": 2,
   "id": "2285b4e3-1db6-478b-b32c-ab0760105f20",
   "metadata": {},
   "outputs": [
    {
     "name": "stdout",
     "output_type": "stream",
     "text": [
      "[2, 4, 5, 6, 8, 10, 12, 14, 15, 16, 18, 20, 22, 24, 25, 26, 28, 30, 32, 34, 35, 36, 38, 40, 42, 44, 45, 46, 48, 50, 52, 54, 55, 56, 58, 60, 62, 64, 65, 66, 68, 70, 72, 74, 75, 76, 78, 80, 82, 84, 85, 86, 88, 90, 92, 94, 95, 96, 98, 100]\n"
     ]
    }
   ],
   "source": [
    "# 4)\n",
    "\n",
    "# using for loop\n",
    "list = []\n",
    "i = 1\n",
    "\n",
    "for i in range(1,101):\n",
    "    cube = i**3\n",
    "    if cube % 4 == 0 or cube % 5 == 0:\n",
    "        list.append(i)\n",
    "   \n",
    "print(list)\n",
    "    "
   ]
  },
  {
   "cell_type": "code",
   "execution_count": 1,
   "id": "155f1ffa-f992-4339-9292-15c7f7d6179f",
   "metadata": {},
   "outputs": [
    {
     "name": "stdout",
     "output_type": "stream",
     "text": [
      "[2, 4, 5, 6, 8, 10, 12, 14, 15, 16, 18, 20, 22, 24, 25, 26, 28, 30, 32, 34, 35, 36, 38, 40, 42, 44, 45, 46, 48, 50, 52, 54, 55, 56, 58, 60, 62, 64, 65, 66, 68, 70, 72, 74, 75, 76, 78, 80, 82, 84, 85, 86, 88, 90, 92, 94, 95, 96, 98, 100]\n"
     ]
    }
   ],
   "source": [
    "# 4)\n",
    "\n",
    "# using while loop\n",
    "list = []\n",
    "i = 1\n",
    "\n",
    "while i <= 100:\n",
    "    cube = i**3\n",
    "    if cube % 4 == 0 or cube % 5 == 0:\n",
    "        list.append(i)\n",
    "    i=i+1\n",
    "   \n",
    "print(list)"
   ]
  },
  {
   "cell_type": "code",
   "execution_count": 4,
   "id": "509fa8e6-a19c-42fd-ae1d-dc6528754f03",
   "metadata": {},
   "outputs": [
    {
     "name": "stdout",
     "output_type": "stream",
     "text": [
      "Number of vowels in this string:  12\n"
     ]
    }
   ],
   "source": [
    "# 5)\n",
    "\n",
    "string= \"i want to become a data scientist\"\n",
    "vowel= \"aeiouAEIOU\"\n",
    "count=0\n",
    "for char in string:\n",
    "    \n",
    "    if char in vowel:\n",
    "        count = count + 1\n",
    "print (\"Number of vowels in this string: \", count)"
   ]
  },
  {
   "cell_type": "code",
   "execution_count": null,
   "id": "5eb6e0bb-1207-43ef-ad6c-3ca06cf874fb",
   "metadata": {},
   "outputs": [],
   "source": []
  }
 ],
 "metadata": {
  "kernelspec": {
   "display_name": "Python 3 (ipykernel)",
   "language": "python",
   "name": "python3"
  },
  "language_info": {
   "codemirror_mode": {
    "name": "ipython",
    "version": 3
   },
   "file_extension": ".py",
   "mimetype": "text/x-python",
   "name": "python",
   "nbconvert_exporter": "python",
   "pygments_lexer": "ipython3",
   "version": "3.10.8"
  }
 },
 "nbformat": 4,
 "nbformat_minor": 5
}
