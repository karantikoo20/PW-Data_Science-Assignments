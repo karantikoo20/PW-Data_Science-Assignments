{
 "cells": [
  {
   "cell_type": "code",
   "execution_count": 2,
   "id": "814e4a19-51a9-45ad-965a-dc6584203afc",
   "metadata": {},
   "outputs": [
    {
     "name": "stdin",
     "output_type": "stream",
     "text": [
      "Enter percentage 8\n"
     ]
    },
    {
     "name": "stdout",
     "output_type": "stream",
     "text": [
      "Your Grade is D\n"
     ]
    }
   ],
   "source": [
    "#1\n",
    "\n",
    "percentage = int(input(\"Enter percentage\"))\n",
    "\n",
    "if percentage > 90:\n",
    "    print(\"Your Grade is A\")\n",
    "elif percentage >80 and percentage <=90:\n",
    "    print(\"Your Grade is B\")\n",
    "elif percentage >= 60 and percentage <= 80:\n",
    "    print(\"Your Grade is C\")\n",
    "else:\n",
    "    print(\"Your Grade is D\")"
   ]
  },
  {
   "cell_type": "code",
   "execution_count": null,
   "id": "12d33d69-4fe0-4b90-bf10-2d538be5e39b",
   "metadata": {},
   "outputs": [
    {
     "name": "stdin",
     "output_type": "stream",
     "text": [
      "Enter cost price of bike : 900000\n"
     ]
    }
   ],
   "source": [
    "#2\n",
    "CP = int(input(\"Enter cost price of bike :\"))\n",
    "\n",
    "if CP > 100000:\n",
    "    print(\"Tax = 15%\")\n",
    "elif CP > 50000 and CP <= 10000:\n",
    "    print(\"Tax = 10%\")\n",
    "elif CP <= 50000:\n",
    "    print(\"Tax = 5%\")"
   ]
  },
  {
   "cell_type": "code",
   "execution_count": 1,
   "id": "d371c256-c0bf-4d29-aa4a-55a6053baa71",
   "metadata": {},
   "outputs": [
    {
     "name": "stdin",
     "output_type": "stream",
     "text": [
      "Enter city name : Delhi\n"
     ]
    },
    {
     "name": "stdout",
     "output_type": "stream",
     "text": [
      "Red Fort\n"
     ]
    }
   ],
   "source": [
    "#3\n",
    "City = input(\"Enter city name :\")\n",
    "\n",
    "if City == \"Delhi\":\n",
    "    print(\"Red Fort\")\n",
    "elif City == \"Agra\":\n",
    "    print(\"Taj Mahal\")\n",
    "elif City == \"Jaipur\":\n",
    "    print(\"Jal Mahal\")\n",
    "else:\n",
    "    print(\"City detail is not available\")"
   ]
  },
  {
   "cell_type": "code",
   "execution_count": 6,
   "id": "3e121f1b-a127-4b1b-a982-ca64d75577db",
   "metadata": {},
   "outputs": [
    {
     "name": "stdin",
     "output_type": "stream",
     "text": [
      "Enter a number : 99\n"
     ]
    },
    {
     "name": "stdout",
     "output_type": "stream",
     "text": [
      "2\n"
     ]
    }
   ],
   "source": [
    "# 4) \n",
    "\n",
    "n = int(input(\"Enter a number :\"))\n",
    "\n",
    "count = 0\n",
    "\n",
    "while True:\n",
    "    if n%3 ==0:\n",
    "        n = n/3\n",
    "        count = count+1\n",
    "    elif n%3 != 0:\n",
    "        n = n-1\n",
    "    if n<=10:\n",
    "        break\n",
    "print(count)\n",
    "    "
   ]
  },
  {
   "cell_type": "code",
   "execution_count": 3,
   "id": "59eb1ca4-5448-4a20-9342-cebeb0cdf6a2",
   "metadata": {},
   "outputs": [
    {
     "data": {
      "text/plain": [
       "' \\n\\nThe while loop we can execute a set of statements as long as a condition is true.\\n\\nIn Python while loop is used to run a block code until a certain condition is met. Here, A while loop evaluates the condition. If the condition evaluates to True , the code inside the while loop is executed.\\n\\n'"
      ]
     },
     "execution_count": 3,
     "metadata": {},
     "output_type": "execute_result"
    }
   ],
   "source": [
    "# 5) \n",
    "\n",
    "\"\"\" \n",
    "\n",
    "The while loop we can execute a set of statements as long as a condition is true.\n",
    "\n",
    "In Python while loop is used to run a block code until a certain condition is met. Here, A while loop evaluates the condition. If the condition evaluates to True , the code inside the while loop is executed.\n",
    "\n",
    "\"\"\""
   ]
  },
  {
   "cell_type": "code",
   "execution_count": 10,
   "id": "9a6a5f47-c9e6-4ab9-950a-2b114b289f2a",
   "metadata": {},
   "outputs": [
    {
     "name": "stdin",
     "output_type": "stream",
     "text": [
      "Enter number of rows :  5\n"
     ]
    },
    {
     "name": "stdout",
     "output_type": "stream",
     "text": [
      "* \n",
      "* * \n",
      "* * * \n",
      "* * * * \n",
      "* * * * * \n"
     ]
    }
   ],
   "source": [
    "# 6)\n",
    "\n",
    "#1\n",
    "\n",
    "n = int(input('Enter number of rows : '))\n",
    "\n",
    "i = 1\n",
    "while i <= n :\n",
    "    j = 1\n",
    "    while j <= i:\n",
    "        print(\"*\", end = \" \")\n",
    "        j += 1\n",
    "    print()\n",
    "    i += 1"
   ]
  },
  {
   "cell_type": "code",
   "execution_count": 11,
   "id": "b3f32f48-8b01-473c-9c5d-936566195ba3",
   "metadata": {},
   "outputs": [
    {
     "name": "stdin",
     "output_type": "stream",
     "text": [
      "Enter number of rows :  6\n"
     ]
    },
    {
     "name": "stdout",
     "output_type": "stream",
     "text": [
      "* * * * * * \n",
      "* * * * * \n",
      "* * * * \n",
      "* * * \n",
      "* * \n",
      "* \n"
     ]
    }
   ],
   "source": [
    "# 6)\n",
    "\n",
    "#2\n",
    "\n",
    "n = int(input('Enter number of rows : '))\n",
    " \n",
    "i = 1\n",
    "while i <= n :\n",
    "    j = n\n",
    "    while j >= i:\n",
    "        print(\"*\", end = \" \")\n",
    "        j -= 1\n",
    "    print()\n",
    "    i += 1"
   ]
  },
  {
   "cell_type": "code",
   "execution_count": 12,
   "id": "55d3b47b-a398-42f6-8363-347200979692",
   "metadata": {},
   "outputs": [
    {
     "name": "stdin",
     "output_type": "stream",
     "text": [
      "enter no.of rows \n",
      " 6\n"
     ]
    },
    {
     "name": "stdout",
     "output_type": "stream",
     "text": [
      "     *\n",
      "    **\n",
      "   ***\n",
      "  ****\n",
      " *****\n",
      "******\n"
     ]
    }
   ],
   "source": [
    "# 6)\n",
    "\n",
    "#3\n",
    "\n",
    "r = int(input(\"enter no.of rows \\n\"))  # reads a no. from user\n",
    "m =r  # assigns r to m\n",
    "for i in range(r):  # represents the rows\n",
    "\tfor s in range(m-1):  # represents the spaces\n",
    "\t\tprint(\" \",end=\"\")\n",
    "\tm=m-1\n",
    "\tfor j in range(i+1):  # represents the number of columns in every row\n",
    "\t\tprint(\"*\",end=\"\")  # prints *\n",
    "\tprint()  # brings the cursor to the next line"
   ]
  },
  {
   "cell_type": "code",
   "execution_count": 13,
   "id": "a5de3ebb-1255-4464-8696-c5dd8b5fa42e",
   "metadata": {},
   "outputs": [
    {
     "name": "stdout",
     "output_type": "stream",
     "text": [
      "10\n",
      "9\n",
      "8\n",
      "7\n",
      "6\n",
      "5\n",
      "4\n",
      "3\n",
      "2\n",
      "1\n"
     ]
    }
   ],
   "source": [
    "# 7)\n",
    "\n",
    "i = 10\n",
    "while i > 0:\n",
    "    print(i)\n",
    "    i = i - 1"
   ]
  },
  {
   "cell_type": "code",
   "execution_count": 14,
   "id": "598f39f4-c3d0-41d1-b463-88f19dc5cec2",
   "metadata": {},
   "outputs": [
    {
     "name": "stdout",
     "output_type": "stream",
     "text": [
      "10\n",
      "9\n",
      "8\n",
      "7\n",
      "6\n",
      "5\n",
      "4\n",
      "3\n",
      "2\n",
      "1\n"
     ]
    }
   ],
   "source": [
    "# 8 )\n",
    "\n",
    "i = 10\n",
    "while i > 0:\n",
    "    print(i)\n",
    "    i = i - 1"
   ]
  },
  {
   "cell_type": "code",
   "execution_count": null,
   "id": "3830a990-6f41-4e13-aba2-3b6b4ff9c259",
   "metadata": {},
   "outputs": [],
   "source": []
  }
 ],
 "metadata": {
  "kernelspec": {
   "display_name": "Python 3 (ipykernel)",
   "language": "python",
   "name": "python3"
  },
  "language_info": {
   "codemirror_mode": {
    "name": "ipython",
    "version": 3
   },
   "file_extension": ".py",
   "mimetype": "text/x-python",
   "name": "python",
   "nbconvert_exporter": "python",
   "pygments_lexer": "ipython3",
   "version": "3.10.8"
  }
 },
 "nbformat": 4,
 "nbformat_minor": 5
}
