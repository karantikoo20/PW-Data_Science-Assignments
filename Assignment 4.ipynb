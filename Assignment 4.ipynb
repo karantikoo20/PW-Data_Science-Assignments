{
 "cells": [
  {
   "cell_type": "code",
   "execution_count": 11,
   "id": "2aec6eab-5c14-43a3-a00a-7c222cf2c091",
   "metadata": {},
   "outputs": [
    {
     "name": "stdout",
     "output_type": "stream",
     "text": [
      "[1, 3, 5, 7, 9, 11, 13, 15, 17, 19, 21, 23, 25]\n"
     ]
    }
   ],
   "source": [
    "# 1)\n",
    "\n",
    "# The def keyword is used to create, (or define) a function.\n",
    "\n",
    "def odd_numbers(n):\n",
    "    new_list = []\n",
    "    for i in range(1,26):\n",
    "        if i%2 != 0:\n",
    "            new_list.append(i)\n",
    "    return new_list\n",
    "\n",
    "\n",
    "l = [1,2,3,4,5,6,7,8,9,10,11,12,13,14,15,16,17,18,19,20,21,22,23,23,24,25,26] \n",
    "print(odd_numbers(l))         \n",
    "           \n",
    "    "
   ]
  },
  {
   "cell_type": "code",
   "execution_count": 1,
   "id": "cd68b441-d6b5-4d6a-b5f7-d47604d78492",
   "metadata": {},
   "outputs": [
    {
     "name": "stdout",
     "output_type": "stream",
     "text": [
      "Hello\n",
      "Welcome\n",
      "to\n",
      "GeeksforGeeks\n"
     ]
    }
   ],
   "source": [
    "# 2)\n",
    "\n",
    "# *args - The special syntax *args in function definitions in python is used to pass a variable number of arguments to a function. It is used to pass a non-key worded, variable-length argument list. \n",
    "\n",
    "# example of *args - \n",
    "\n",
    "def myFun(*argv):\n",
    "\tfor arg in argv:\n",
    "\t\tprint(arg)\n",
    "\n",
    "\n",
    "myFun('Hello', 'Welcome', 'to', 'GeeksforGeeks')\n"
   ]
  },
  {
   "cell_type": "code",
   "execution_count": 3,
   "id": "6695cd87-3735-4ec1-b80a-68ebb652dd04",
   "metadata": {},
   "outputs": [
    {
     "name": "stdout",
     "output_type": "stream",
     "text": [
      "first == hey\n",
      "mid == for\n",
      "last == you\n"
     ]
    }
   ],
   "source": [
    "#   2)\n",
    "\n",
    "# **kwargs - The special syntax **kwargs in function definitions in python is used to pass a keyworded, variable-length argument list. We use the name kwargs with the double star. The reason is that the double star allows us to pass through keyword arguments.\n",
    "\n",
    "\n",
    "def myFun(**kwargs):\n",
    "\tfor key, value in kwargs.items():\n",
    "\t\tprint(\"%s == %s\" % (key, value))\n",
    "\n",
    "\n",
    "# Driver code\n",
    "myFun(first='hey', mid='for', last='you')\n"
   ]
  },
  {
   "cell_type": "code",
   "execution_count": 6,
   "id": "bbdce7a9-2336-4075-8cb8-1f0de52f3a5d",
   "metadata": {},
   "outputs": [
    {
     "name": "stdout",
     "output_type": "stream",
     "text": [
      "2\n",
      "4\n",
      "6\n",
      "8\n",
      "10\n"
     ]
    }
   ],
   "source": [
    "# 3)\n",
    "\n",
    "# Iterator - An iterator is an object that contains a countable number of values. An iterator is an object that can be iterated upon, meaning that you can traverse through all the values. Technically, in Python, an iterator is an object which implements the iterator protocol, which consist of the methods __iter__() and __next__() .\n",
    "\n",
    "# The iterator object is initialized using the iter() method. It uses the next() method for iteration.\n",
    "\n",
    "\n",
    "my_list = [2,4,6,8,10,12,14,15,16,18,20]\n",
    "\n",
    "my_iter=iter(my_list)\n",
    "for i in range(5):\n",
    "    print(next(my_iter))\n",
    "\n"
   ]
  },
  {
   "cell_type": "code",
   "execution_count": 5,
   "id": "03260f32-b1fe-44e4-abd6-36cc5e84b480",
   "metadata": {},
   "outputs": [
    {
     "name": "stdout",
     "output_type": "stream",
     "text": [
      "0\n",
      "1\n",
      "2\n"
     ]
    }
   ],
   "source": [
    "# 4)\n",
    "\n",
    "# Generator is a function that returns an iterator that produces a sequence of values when iterated over. Generators are useful when we want to produce a large sequence of values, but we don't want to store all of them in memory at once.\n",
    "\n",
    "# yield keyword is used to create a generator function. A type of function that is memory efficient and can be used like an iterator object. In layman terms, the yield keyword will turn any expression that is given with it into a generator object and return it to the caller.\n",
    "\n",
    "# example\n",
    "\n",
    "def my_generator(n):\n",
    "\n",
    "    value = 0\n",
    "\n",
    "    while value < n:\n",
    "\n",
    "        yield value    \n",
    "        value += 1\n",
    "\n",
    "# iterate over the generator object produced by my_generator\n",
    "for value in my_generator(3):\n",
    "    print(value)"
   ]
  },
  {
   "cell_type": "code",
   "execution_count": 8,
   "id": "af63c247-6caa-4675-9c69-23a98505b5f7",
   "metadata": {},
   "outputs": [
    {
     "name": "stdout",
     "output_type": "stream",
     "text": [
      "2\n",
      "3\n",
      "5\n",
      "7\n",
      "11\n",
      "13\n",
      "17\n",
      "19\n",
      "23\n",
      "29\n",
      "31\n",
      "37\n",
      "41\n",
      "43\n",
      "47\n",
      "53\n",
      "59\n",
      "61\n",
      "67\n",
      "71\n"
     ]
    }
   ],
   "source": [
    "# 5)\n",
    "\n",
    "def primes():\n",
    "    yield 2\n",
    "    prime_list = [2]\n",
    "    i = 3\n",
    "    while i < 1000:\n",
    "        is_prime = True\n",
    "        for prime in prime_list:\n",
    "            if i % prime == 0:\n",
    "                is_prime = False\n",
    "                break\n",
    "        if is_prime:\n",
    "            prime_list.append(i)\n",
    "            yield i\n",
    "        i += 2\n",
    "        \n",
    "prime_gen = primes()\n",
    "for i in range(20):\n",
    "    print(next(prime_gen))"
   ]
  },
  {
   "cell_type": "code",
   "execution_count": 12,
   "id": "59004595-c1ff-42f2-8de6-1e1f560439a4",
   "metadata": {},
   "outputs": [
    {
     "name": "stdin",
     "output_type": "stream",
     "text": [
      "how many terms ? 10\n"
     ]
    },
    {
     "name": "stdout",
     "output_type": "stream",
     "text": [
      "Fibonacci series is:  0 1 0 1 1 2 3 5 8 13 "
     ]
    }
   ],
   "source": [
    "# 6)\n",
    "\n",
    "n = int(input(\"how many terms ?\"))\n",
    "a = 0\n",
    "b = 1\n",
    "sum = 0\n",
    "count = 1\n",
    "print(\"Fibonacci series is: \", end = \" \")\n",
    "while(count <= n):\n",
    "  count += 1\n",
    "  print(a, end=\" \")\n",
    "  a = b\n",
    "  b = sum\n",
    "  sum = a + b"
   ]
  },
  {
   "cell_type": "code",
   "execution_count": 2,
   "id": "a87f17bb-0c7b-409e-886c-89eb43bbf629",
   "metadata": {},
   "outputs": [
    {
     "data": {
      "text/plain": [
       "['p', 'w', 's', 'k', 'i', 'l', 'l', 's']"
      ]
     },
     "execution_count": 2,
     "metadata": {},
     "output_type": "execute_result"
    }
   ],
   "source": [
    "# 7)\n",
    "\n",
    "string = 'pwskills'\n",
    "\n",
    "[i for i in string]\n"
   ]
  },
  {
   "cell_type": "code",
   "execution_count": 24,
   "id": "7821d881-e196-48dc-aeb5-73341a0ef5ee",
   "metadata": {},
   "outputs": [
    {
     "name": "stdin",
     "output_type": "stream",
     "text": [
      "Enter number: 88\n"
     ]
    },
    {
     "name": "stdout",
     "output_type": "stream",
     "text": [
      "The number is a palindrome!\n"
     ]
    }
   ],
   "source": [
    "# 8)\n",
    "\n",
    "n=int(input(\"Enter number:\"))\n",
    "temp=n\n",
    "rev=0\n",
    "while(n>0):\n",
    "    dig=n%10\n",
    "    rev=rev*10+dig\n",
    "    n=n//10\n",
    "if(temp==rev):\n",
    "    print(\"The number is a palindrome!\")\n",
    "else:\n",
    "    print(\"The number isn't a palindrome!\")"
   ]
  },
  {
   "cell_type": "code",
   "execution_count": 25,
   "id": "9064a5b0-d9ee-42e6-8912-0302f95f3235",
   "metadata": {},
   "outputs": [
    {
     "data": {
      "text/plain": [
       "[1,\n",
       " 3,\n",
       " 5,\n",
       " 7,\n",
       " 9,\n",
       " 11,\n",
       " 13,\n",
       " 15,\n",
       " 17,\n",
       " 19,\n",
       " 21,\n",
       " 23,\n",
       " 25,\n",
       " 27,\n",
       " 29,\n",
       " 31,\n",
       " 33,\n",
       " 35,\n",
       " 37,\n",
       " 39,\n",
       " 41,\n",
       " 43,\n",
       " 45,\n",
       " 47,\n",
       " 49,\n",
       " 51,\n",
       " 53,\n",
       " 55,\n",
       " 57,\n",
       " 59,\n",
       " 61,\n",
       " 63,\n",
       " 65,\n",
       " 67,\n",
       " 69,\n",
       " 71,\n",
       " 73,\n",
       " 75,\n",
       " 77,\n",
       " 79,\n",
       " 81,\n",
       " 83,\n",
       " 85,\n",
       " 87,\n",
       " 89,\n",
       " 91,\n",
       " 93,\n",
       " 95,\n",
       " 97,\n",
       " 99]"
      ]
     },
     "execution_count": 25,
     "metadata": {},
     "output_type": "execute_result"
    }
   ],
   "source": [
    "# 9)\n",
    "\n",
    "[i for i in range(1,101) if i%2 != 0]\n"
   ]
  },
  {
   "cell_type": "code",
   "execution_count": null,
   "id": "c346e8f2-c44d-45ec-8b72-1fc50e7ba747",
   "metadata": {},
   "outputs": [],
   "source": []
  }
 ],
 "metadata": {
  "kernelspec": {
   "display_name": "Python 3 (ipykernel)",
   "language": "python",
   "name": "python3"
  },
  "language_info": {
   "codemirror_mode": {
    "name": "ipython",
    "version": 3
   },
   "file_extension": ".py",
   "mimetype": "text/x-python",
   "name": "python",
   "nbconvert_exporter": "python",
   "pygments_lexer": "ipython3",
   "version": "3.10.8"
  }
 },
 "nbformat": 4,
 "nbformat_minor": 5
}
