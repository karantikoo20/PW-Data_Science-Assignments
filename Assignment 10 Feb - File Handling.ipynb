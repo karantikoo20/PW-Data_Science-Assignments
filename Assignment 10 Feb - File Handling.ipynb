{
 "cells": [
  {
   "cell_type": "code",
   "execution_count": 3,
   "id": "c368a029-6268-41d2-8ac2-2ed212c312a5",
   "metadata": {},
   "outputs": [],
   "source": [
    "# 1)\n",
    "\n",
    "\"\"\"\n",
    "The open() function does what the name implies – it opens a file for you so you can work with the file.\n",
    "\n",
    "The following modes are supported:\n",
    "\n",
    "r: open an existing file for a read operation.\n",
    "w: open an existing file for a write operation. If the file already contains some data then it will be overridden but if the file is not present then it creates the file as well.\n",
    "a:  open an existing file for append operation. It won’t override existing data.\n",
    "r+:  To read and write data into the file. The previous data in the file will be overridden.\n",
    "w+: To write and read data. It will override existing data.\n",
    "a+: To append and read data from the file. It won’t override existing data.\n",
    "\n",
    "syntax  - f = open(filename, mode)\n",
    "\"\"\"\n",
    "\n",
    "# examples - \n",
    "\n",
    "# a file named \"geek\", will be opened with the reading mode.\n",
    "\n",
    "# file = open('geek.txt', 'r')\n",
    "\n",
    "# for each in file:\n",
    "\t# print (each)\n",
    "    \n",
    "\n",
    "# Python code to create a file\n",
    "file = open('geek.txt','w')\n",
    "file.write(\"This is the write command\")\n",
    "file.write(\"It allows us to write in a particular file\")\n",
    "file.close()\n"
   ]
  },
  {
   "cell_type": "code",
   "execution_count": 9,
   "id": "402199f6-c665-42f4-80e2-26d87a958420",
   "metadata": {},
   "outputs": [],
   "source": [
    "# Python code to illustrate append() mode\n",
    "file = open('geek.txt', 'a')\n",
    "file.write(\"This will add this line\")\n",
    "file.close()\n"
   ]
  },
  {
   "cell_type": "code",
   "execution_count": 10,
   "id": "dfe7951d-41ee-40b9-b43a-4086652b45f8",
   "metadata": {},
   "outputs": [
    {
     "data": {
      "text/plain": [
       "'\\nThe close() method closes an open file. You should always close your files, in some cases, due to buffering, changes made to a file may not show until you close the file.\\n'"
      ]
     },
     "execution_count": 10,
     "metadata": {},
     "output_type": "execute_result"
    }
   ],
   "source": [
    "# 2)\n",
    "\n",
    "\"\"\"\n",
    "The close() method closes an open file. You should always close your files, in some cases, due to buffering, \n",
    "changes made to a file may not show until you close the file.\n",
    "\"\"\""
   ]
  },
  {
   "cell_type": "code",
   "execution_count": 12,
   "id": "237f10fc-aee7-4cae-975c-82b7f12ecfdc",
   "metadata": {},
   "outputs": [
    {
     "data": {
      "text/plain": [
       "'It allows us to write in a particular file'"
      ]
     },
     "execution_count": 12,
     "metadata": {},
     "output_type": "execute_result"
    }
   ],
   "source": [
    "# 3)\n",
    "\n",
    "file = open('test.txt','w')\n",
    "\n",
    "file.write(\"It allows us to write in a particular file\")\n",
    "file.close()\n",
    "\n",
    "file1 = open('test.txt','r')\n",
    "file1.read()"
   ]
  },
  {
   "cell_type": "code",
   "execution_count": 6,
   "id": "0b279683-7b81-4c96-b038-1ae267f5eb33",
   "metadata": {},
   "outputs": [
    {
     "name": "stdout",
     "output_type": "stream",
     "text": [
      "Hello world \n",
      "I hope you're doing well today \n",
      "This is a text file \n",
      "Have a nice time \n",
      "\n",
      "\n",
      "[]\n"
     ]
    }
   ],
   "source": [
    "# 4)\n",
    "\n",
    "\"\"\"\n",
    "The read() method returns the specified number of bytes from the file. Default is -1 which means the whole file.\n",
    "\n",
    "The readline() method returns one line from the file.\n",
    "You can also specified how many bytes from the line to return, by using the size parameter.\n",
    "\n",
    "The readlines() method returns a list containing each line in the file as a list item.\n",
    "Use the hint parameter to limit the number of lines returned. If the total number of bytes returned exceeds the specified number, no more lines are returned.\n",
    "\"\"\"\n",
    "\n",
    "# Example - \n",
    "\n",
    "data = open(\"hello.txt\",'r')\n",
    "print(data.read())\n",
    "print(data.readline(5))\n",
    "print(data.readlines(5))"
   ]
  },
  {
   "cell_type": "code",
   "execution_count": 14,
   "id": "ef204e6f-da90-4dcf-ab09-b77c4ad2dd46",
   "metadata": {},
   "outputs": [
    {
     "name": "stdout",
     "output_type": "stream",
     "text": [
      "Hello world \n",
      "I hope you're doing well today \n",
      "This is a text file \n",
      "Have a nice time \n",
      "\n"
     ]
    }
   ],
   "source": [
    "# 5)\n",
    "\n",
    "\"\"\"\n",
    "Unlike open() where you have to close the file with the close() method, the with statement closes the file for you without you telling it to.\n",
    "\n",
    "This is because the with statement calls 2 built-in methods behind the scene – __enter()__ and __exit()__.\n",
    "\n",
    "The __exit()__ method closes the file when the operation you specify is done.\n",
    "\"\"\"\n",
    "\n",
    "# Example\n",
    "\n",
    "with open(\"hello.txt\", \"w\") as my_file:\n",
    "    my_file.write(\"Hello world \\n\")\n",
    "    my_file.write(\"I hope you're doing well today \\n\")\n",
    "    my_file.write(\"This is a text file \\n\")\n",
    "    my_file.write(\"Have a nice time \\n\")\n",
    "\n",
    "with open(\"hello.txt\") as my_file:\n",
    "    print(my_file.read())"
   ]
  },
  {
   "cell_type": "code",
   "execution_count": 1,
   "id": "f2f32e2a-442c-435c-bd27-18e7384963a4",
   "metadata": {},
   "outputs": [
    {
     "name": "stdin",
     "output_type": "stream",
     "text": [
      "Enter the name of the employee:  karan\n",
      "Enter the name of the employee:  jjjj\n",
      "Enter the name of the employee:  hhh\n"
     ]
    },
    {
     "name": "stdout",
     "output_type": "stream",
     "text": [
      "Data is written into the file.\n"
     ]
    },
    {
     "name": "stdin",
     "output_type": "stream",
     "text": [
      "Enter the name of the employee:  jj\n",
      "Enter the name of the employee:  kk\n",
      "Enter the name of the employee:  kk\n"
     ]
    },
    {
     "name": "stdout",
     "output_type": "stream",
     "text": [
      "Data is written into the file.\n"
     ]
    }
   ],
   "source": [
    "# 6)\n",
    "\n",
    "\"\"\"\n",
    "The write() function will write the content in the file without adding any extra characters.\n",
    "\n",
    "Syntax: \n",
    "\n",
    "# Writes string content referenced by file object.\n",
    "file_name.write(content) \n",
    "\"\"\"\n",
    "\n",
    "# example - \n",
    "\n",
    "file = open(\"Employees.txt\", \"w\")\n",
    "\n",
    "for i in range(3):\n",
    "    \n",
    "    name = input(\"Enter the name of the employee: \")\n",
    "    file.write(name)\n",
    "    file.write(\"\\n\")\n",
    "\t\n",
    "file.close()\n",
    "\n",
    "print(\"Data is written into the file.\")\n",
    "\n",
    "\n"
   ]
  },
  {
   "cell_type": "code",
   "execution_count": 13,
   "id": "290c38fc-c674-449e-94a2-bea58650dfbf",
   "metadata": {},
   "outputs": [
    {
     "name": "stdin",
     "output_type": "stream",
     "text": [
      "Enter the name of the employee:  jjj\n",
      "Enter the name of the employee:  kokk\n",
      "Enter the name of the employee:  kiji\n"
     ]
    },
    {
     "name": "stdout",
     "output_type": "stream",
     "text": [
      "Data is written into the file.\n"
     ]
    }
   ],
   "source": [
    "\"\"\"\n",
    "writelines() function writes the content of a list to a file.\n",
    "\n",
    "Syntax:   \n",
    "\n",
    "# write all the strings present in the list \"list_of_lines\" \n",
    "# referenced by file object.\n",
    "file_name.writelines(list_of_lines)\n",
    "\"\"\"\n",
    "\n",
    "\n",
    "# example - \n",
    "\n",
    "file1 = open(\"Employees1.txt\", \"w\")\n",
    "lst = []\n",
    "\n",
    "for i in range(3):\n",
    "\tname = input(\"Enter the name of the employee: \")\n",
    "\tlst.append(name + '\\n')\n",
    "\t\n",
    "file1.writelines(lst)\n",
    "file1.close()\n",
    "print(\"Data is written into the file.\")\n"
   ]
  }
 ],
 "metadata": {
  "kernelspec": {
   "display_name": "Python 3 (ipykernel)",
   "language": "python",
   "name": "python3"
  },
  "language_info": {
   "codemirror_mode": {
    "name": "ipython",
    "version": 3
   },
   "file_extension": ".py",
   "mimetype": "text/x-python",
   "name": "python",
   "nbconvert_exporter": "python",
   "pygments_lexer": "ipython3",
   "version": "3.10.8"
  }
 },
 "nbformat": 4,
 "nbformat_minor": 5
}
