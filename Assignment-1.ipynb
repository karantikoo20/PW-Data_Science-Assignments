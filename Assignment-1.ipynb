{
 "cells": [
  {
   "cell_type": "code",
   "execution_count": 1,
   "id": "ad92c76a-f83c-44b9-945b-6bfac32aad97",
   "metadata": {},
   "outputs": [],
   "source": [
    "# 1) Guido van Rossum began working on Python in the late 1980s as a successor to the ABC programming language and first released it in 1991 as Python 0.9.0.[36] Python 2.0 was released in 2000. Python 3.0, released in 2008, was a major revision not completely backward-compatible with earlier versions."
   ]
  },
  {
   "cell_type": "code",
   "execution_count": null,
   "id": "64592165-eef1-45c4-ace0-34591e386492",
   "metadata": {},
   "outputs": [],
   "source": [
    "# 2) Python is a multi-paradigm programming language. Object-oriented programming and structured programming are fully supported, and many of their features support functional programming and aspect-oriented programming ."
   ]
  },
  {
   "cell_type": "code",
   "execution_count": null,
   "id": "00f64a34-3b9a-40d5-b342-af9aadc2c13c",
   "metadata": {},
   "outputs": [],
   "source": [
    "# 3) Yes, Python is a case-sensitive language, it treats uppercase and lowercase characters differently. This applies to identifiers too. You must avoid using the same name with different cases while naming identifiers."
   ]
  },
  {
   "cell_type": "code",
   "execution_count": null,
   "id": "164d18f5-1dd8-4d02-8b3a-0d21b2a52992",
   "metadata": {},
   "outputs": [],
   "source": [
    "# 4) The Files with the . py extension contain the Python source code."
   ]
  },
  {
   "cell_type": "code",
   "execution_count": null,
   "id": "49b79c6f-1e67-4bad-b534-9e825b571d44",
   "metadata": {},
   "outputs": [],
   "source": [
    "# 5) Python is an interpreted language, which means the source code of a Python program is converted into bytecode that is then executed by the Python virtual machine. "
   ]
  },
  {
   "cell_type": "code",
   "execution_count": null,
   "id": "0c0e0adc-c036-4bda-8f6a-39d3f9db277b",
   "metadata": {},
   "outputs": [],
   "source": [
    "# 6) Indentation is used to define a block of code in python. Braces {} are used to define a block of code in most programming languages, like C, C++, and Java. But this indentation makes python unique among all programming languages."
   ]
  },
  {
   "cell_type": "code",
   "execution_count": null,
   "id": "45a1943e-3ef1-4809-bec6-7f876a678a2b",
   "metadata": {},
   "outputs": [],
   "source": [
    "# 7) Hash character(#) is used to comment the line in the Python program."
   ]
  },
  {
   "cell_type": "code",
   "execution_count": null,
   "id": "bf49c13f-6f9b-4f7b-8573-98ed4740fd2b",
   "metadata": {},
   "outputs": [],
   "source": [
    "# 8) The function sys. version can help us to find the version of python that we are currently working on."
   ]
  },
  {
   "cell_type": "code",
   "execution_count": null,
   "id": "1b514a80-23d0-446b-8022-6f4f07191688",
   "metadata": {},
   "outputs": [],
   "source": [
    "# 9) Python supports to make anonymous functions which are not bound to a name(@ runtime). It uses a construct called \"lambda\" . This is not exactly the same as lambda in functional programming languages."
   ]
  },
  {
   "cell_type": "code",
   "execution_count": null,
   "id": "f43b8540-3ee0-44fb-a130-d00efdc7d435",
   "metadata": {},
   "outputs": [],
   "source": [
    "# 10) pip stands for \"preferred installer program\" in Python."
   ]
  },
  {
   "cell_type": "code",
   "execution_count": null,
   "id": "bc313c88-e34f-44d9-b2e6-72d490ec4074",
   "metadata": {},
   "outputs": [],
   "source": [
    "# 11) Some inbuilt functions in Python are print( ) function :- type( ), input( ), abs( ), pow( ), dict()\n",
    "\n"
   ]
  },
  {
   "cell_type": "code",
   "execution_count": null,
   "id": "2ab5f3c7-bde2-49df-939b-df92c8ee7aba",
   "metadata": {},
   "outputs": [],
   "source": [
    "# 12) An identifier can have a maximum length of 79 characters in Python. Python is one of the most popular programming languages."
   ]
  },
  {
   "cell_type": "code",
   "execution_count": null,
   "id": "fbfb6509-fa2a-45e9-82fe-cdceec0945fd",
   "metadata": {},
   "outputs": [],
   "source": [
    "\n",
    "# # 13) Benefits of using Python are : \n",
    "\n",
    "# Easy to learn and use.\n",
    "# It improves productivity.\n",
    "# # It is easy to intergrate with other languages.\n",
    "\n"
   ]
  },
  {
   "cell_type": "code",
   "execution_count": null,
   "id": "a057bc61-e1c1-404c-affb-384d7a31a08a",
   "metadata": {},
   "outputs": [],
   "source": [
    "# 14) Memory management in Python involves a private heap containing all Python objects and data structures. The management of this private heap is ensured internally by the Python memory manager."
   ]
  },
  {
   "cell_type": "code",
   "execution_count": null,
   "id": "1f3a2a62-6209-4fc2-ab4b-543a176af2b4",
   "metadata": {},
   "outputs": [],
   "source": [
    "# 15) \n",
    "\n",
    "# Right-clicking This PC and going to Properties.\n",
    "\n",
    "# Clicking on the Advanced system settings in the menu on the left.\n",
    "\n",
    "# Clicking on the Environment Variables button on the bottom right.\n",
    "\n",
    "# In the System variables section, selecting the Path variable and clicking on Edit. The next screen will show all the directories that are currently a part of the PATH variable.\n",
    "\n",
    "# Clicking on New and entering Python’s install directory."
   ]
  },
  {
   "cell_type": "code",
   "execution_count": null,
   "id": "eac734af-6ccd-49eb-be29-4ddaf5267490",
   "metadata": {},
   "outputs": [],
   "source": [
    "# 16) Indentation refers to the spaces at the beginning of a code line. Where in other programming languages the indentation in code is for readability only, the indentation in Python is very important. Python uses indentation to indicate a block of code."
   ]
  }
 ],
 "metadata": {
  "kernelspec": {
   "display_name": "Python 3 (ipykernel)",
   "language": "python",
   "name": "python3"
  },
  "language_info": {
   "codemirror_mode": {
    "name": "ipython",
    "version": 3
   },
   "file_extension": ".py",
   "mimetype": "text/x-python",
   "name": "python",
   "nbconvert_exporter": "python",
   "pygments_lexer": "ipython3",
   "version": "3.10.8"
  }
 },
 "nbformat": 4,
 "nbformat_minor": 5
}
