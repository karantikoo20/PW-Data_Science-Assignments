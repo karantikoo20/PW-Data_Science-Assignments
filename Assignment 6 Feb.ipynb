{
 "cells": [
  {
   "cell_type": "code",
   "execution_count": 13,
   "id": "b0c6c3d4-1e6a-4457-9171-2e86ae8712cd",
   "metadata": {},
   "outputs": [
    {
     "name": "stdout",
     "output_type": "stream",
     "text": [
      "4134711838987085478833841242112000\n"
     ]
    }
   ],
   "source": [
    "# 1)\n",
    "\n",
    "from functools import reduce\n",
    "\n",
    "list1 = [1,2,3,4, [44,55,66, True], False, (34,56,78,89,34), {1,2,3,3,2,1}, {1:34, \"key2\": [55, 67, 78, 89], 4: (45, \n",
    "22, 61, 34)}, [56, 'data science'], 'Machine Learning']\n",
    "\n",
    "\n",
    "### Creating a Function for filtering individual intergers \n",
    "\n",
    "def fnum(l):\n",
    "    \n",
    "    def fil(x,y):\n",
    "        if type(x) == int or type(x) == float:\n",
    "            y.append(x)\n",
    "        if type(x) == list or type(x) == tuple or type(x) == set:\n",
    "            for b in x:\n",
    "                y.append(b)\n",
    "                \n",
    "    fl = []\n",
    "    for a in l:\n",
    "        fil(a,fl)\n",
    "        if type(a) == dict:\n",
    "            for c in list(a.keys()):\n",
    "                fil(c,fl)\n",
    "            for e in list(a.values()):\n",
    "                fil(e,fl)\n",
    "            \n",
    "    o = list(filter(lambda x:type(x) == int,fl))\n",
    "    return o\n",
    "\n",
    "#### Execution \n",
    "final = fnum(list1)\n",
    "print(reduce(lambda x,y:x*y,final))  \n"
   ]
  },
  {
   "cell_type": "code",
   "execution_count": 14,
   "id": "e5b92ae8-4c77-4464-913b-c5539b525a3d",
   "metadata": {},
   "outputs": [
    {
     "name": "stdout",
     "output_type": "stream",
     "text": [
      "r$wzmg$gl$yvxlmv$z$wzgz$hxrvmgrhg.\n"
     ]
    }
   ],
   "source": [
    "#### Problem 2 \n",
    "inp = 'I want to become a Data Scientist.'.lower()  ## Taking Input and making it lowercase\n",
    "o = inp                                             ## Making a shallow copy of input\n",
    "l = ' abcdefghijklmnopqrstuvwxyz$'                  ## making a string for speedy encryption \n",
    "for a in inp:                                       ## accesing each char of the string\n",
    "    i = l.find(a)                                   ## storing the index of char of string from l string\n",
    "    if i == -1 and a != l[-1]:                      ## to overcome the situation if a char in input like the punction marks are not found in l string , then it would return -1 \n",
    "        pass\n",
    "    else:\n",
    "        o = o.replace(a,l[-(i+1)])                  ## encryption by replacing the characters \n",
    "print(o)"
   ]
  },
  {
   "cell_type": "code",
   "execution_count": null,
   "id": "e3237159-252f-4116-8ec2-df8ff534af36",
   "metadata": {},
   "outputs": [],
   "source": []
  }
 ],
 "metadata": {
  "kernelspec": {
   "display_name": "Python 3 (ipykernel)",
   "language": "python",
   "name": "python3"
  },
  "language_info": {
   "codemirror_mode": {
    "name": "ipython",
    "version": 3
   },
   "file_extension": ".py",
   "mimetype": "text/x-python",
   "name": "python",
   "nbconvert_exporter": "python",
   "pygments_lexer": "ipython3",
   "version": "3.10.8"
  }
 },
 "nbformat": 4,
 "nbformat_minor": 5
}
